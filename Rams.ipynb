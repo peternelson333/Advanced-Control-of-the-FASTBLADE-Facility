{
 "cells": [
  {
   "cell_type": "code",
   "execution_count": 1,
   "metadata": {},
   "outputs": [],
   "source": [
    "# Peter Nelson 30/9/19\n",
    "# Code for use at the FASTBLADE facility, determining where to place hydraulic rams to best simulate desired loading on \n",
    "# testing specimen. This code has different modes for different inputs. One mode uses target shear & bending data and the\n",
    "# other modes use only either target load, shear or bending data. The code uses a genetic algorithm to solve an objective\n",
    "# function that is minimised when the difference between the desired and actual shear force distributions is at a global \n",
    "# minimum. The code implicitly ensures that the desired bending moment distribution is simulated by ensuring that the sum \n",
    "# of ratios required is achieved. The code also accepts inputs for how many rams are present in the sytem and upper and \n",
    "# lower bounds for ram positions.\n",
    "\n",
    "# modularisable and adaptable elsewhere more than Jupyter\n",
    "# consider scalability of time taken for code performance as number of nodes increases 20,200,2000"
   ]
  },
  {
   "cell_type": "code",
   "execution_count": 1,
   "metadata": {},
   "outputs": [
    {
     "name": "stdout",
     "output_type": "stream",
     "text": [
      "    radial position        Fx       Fy\n",
      "0          0.000000  1241.850 -228.450\n",
      "1        205.128205  1230.165 -230.970\n",
      "2        615.384615  1227.285 -224.010\n",
      "3       1025.641026  1215.285 -215.760\n",
      "4       1435.897436  1194.600 -206.355\n",
      "5       1846.153846  1165.680 -195.930\n",
      "6       2256.410256  1128.990 -184.605\n",
      "7       2666.666667  1084.965 -172.515\n",
      "8       3076.923077  1034.055 -159.795\n",
      "9       3487.179487   976.695 -146.565\n",
      "10      3897.435897   913.350 -132.945\n",
      "11      4307.692308   844.470 -119.085\n",
      "12      4717.948718   770.505 -105.105\n",
      "13      5128.205128   691.875  -91.140\n",
      "14      5538.461538   609.060  -77.310\n",
      "15      5948.717949   522.495  -63.765\n",
      "16      6358.974359   432.630  -50.610\n",
      "17      6769.230769   339.915  -37.980\n",
      "18      7179.487179   244.800  -26.010\n",
      "19      7589.743590   147.720  -14.835\n",
      "20      8000.000000    49.125   -4.575\n"
     ]
    }
   ],
   "source": [
    "import pandas as pd\n",
    "import numpy as np\n",
    "data = pd.read_excel(r\"C:\\Users\\Peter's 2nd Laptop\\Documents\\MATLAB\\FB again\\Matlab Code No Contraints\\testdata.xlsx\")\n",
    "number_rams=4\n",
    "print(data)"
   ]
  },
  {
   "cell_type": "markdown",
   "metadata": {},
   "source": [
    "# Defining x, Fx, Fy"
   ]
  },
  {
   "cell_type": "code",
   "execution_count": 17,
   "metadata": {},
   "outputs": [],
   "source": [
    "from numpy import interp\n",
    "\n",
    "nodes=200\n",
    "L=data['radial position'][len(data)-1]\n",
    "\n",
    "x=list(range(0,nodes))\n",
    "b=L/(nodes-1)\n",
    "x[:] = [ __ * b for __ in x]\n",
    "\n",
    "Fx=interp(x,data['radial position'],data['Fx'])\n",
    "Fy=interp(x,data['radial position'],data['Fy'])\n",
    "\n",
    "# look into the interpolation method"
   ]
  },
  {
   "cell_type": "markdown",
   "metadata": {},
   "source": [
    "# Integrating & Defining Targets"
   ]
  },
  {
   "cell_type": "code",
   "execution_count": 18,
   "metadata": {},
   "outputs": [
    {
     "data": {
      "image/png": "[encoded data removed]",
      "text/plain": [
       "<Figure size 432x288 with 1 Axes>"
      ]
     },
     "metadata": {
      "needs_background": "light"
     },
     "output_type": "display_data"
    },
    {
     "data": {
      "image/png": "[encoded data removed]",
      "text/plain": [
       "<Figure size 432x288 with 1 Axes>"
      ]
     },
     "metadata": {
      "needs_background": "light"
     },
     "output_type": "display_data"
    }
   ],
   "source": [
    "import scipy \n",
    "import numpy\n",
    "from scipy import integrate\n",
    "from numpy import append\n",
    "from numpy import trapz\n",
    "from numpy import insert\n",
    "import matplotlib.pyplot as plt\n",
    "%matplotlib inline  \n",
    "\n",
    "integralpart=scipy.integrate.cumtrapz(Fx, x)\n",
    "integralpart=numpy.insert(integralpart,0,0)\n",
    "TF=integralpart[-1]\n",
    "\n",
    "TargetShear=TF-integralpart[0]\n",
    "\n",
    "for k in range(2,len(integralpart)):\n",
    "    TargetShear=np.append(TargetShear,TF-integralpart[k-1])\n",
    "TargetShear=np.append(TargetShear,0)\n",
    "\n",
    "integralPart=scipy.integrate.cumtrapz(TargetShear,x)\n",
    "integralPart=numpy.insert(integralPart,0,0)\n",
    "bmax=integralPart[-1]\n",
    "\n",
    "TargetBending=bmax-integralPart[0]\n",
    "\n",
    "for k in range(2,len(integralPart)):\n",
    "    TargetBending=np.append(TargetBending,bmax-integralPart[k-1])\n",
    "TargetBending=np.append(TargetBending,0)\n",
    "TargetBending=TargetBending*-1\n",
    "\n",
    "\n",
    "plt.plot(TargetShear,'r')\n",
    "plt.xlabel('Blade Specimen (cm)')\n",
    "plt.ylabel('Shear (N)')\n",
    "plt.title('Target Shear')\n",
    "plt.show()\n",
    "\n",
    "plt.plot(TargetBending,'b')\n",
    "plt.xlabel('Blade Specimen (cm)')\n",
    "plt.ylabel('Bending (Nm)')\n",
    "plt.title('Target Bending')\n",
    "plt.show()"
   ]
  },
  {
   "cell_type": "markdown",
   "metadata": {},
   "source": [
    "# Using rules to get solver inputs"
   ]
  },
  {
   "cell_type": "code",
   "execution_count": 19,
   "metadata": {},
   "outputs": [],
   "source": [
    "F=TF/number_rams;\n",
    "SumRatios=number_rams*((max(abs(TargetBending))/max(TargetShear)))/L\n",
    "\n",
    "Shear=[None]*(number_rams+1)\n",
    "for i in range(0,number_rams+1):\n",
    "    Shear[i]=TF-F*i\n",
    "    \n",
    "Shear=list(Shear)"
   ]
  },
  {
   "cell_type": "markdown",
   "metadata": {},
   "source": [
    "# Creating Actual Shear Function "
   ]
  },
  {
   "cell_type": "code",
   "execution_count": 20,
   "metadata": {},
   "outputs": [],
   "source": [
    "def AcSh(x,sol,Shear):\n",
    "    ActualShear=[]\n",
    "    for j in range(0,len(Shear)):\n",
    "        for i in range(0,len(x)-1):                              #-1 to fix something\n",
    "            if (x[i])>=sol[j] and (x[i])<sol[j+1]:\n",
    "                ActualShear=np.append(ActualShear, (Shear[j]))\n",
    "    ActualShear=np.append(ActualShear,0)                          #new to ensure Actual Shear length = x length\n",
    "    return ActualShear"
   ]
  },
  {
   "cell_type": "markdown",
   "metadata": {},
   "source": [
    "# LSQ Function"
   ]
  },
  {
   "cell_type": "code",
   "execution_count": 21,
   "metadata": {},
   "outputs": [
    {
     "data": {
      "image/png": "[encoded data removed]",
      "text/plain": [
       "<Figure size 432x288 with 1 Axes>"
      ]
     },
     "metadata": {
      "needs_background": "light"
     },
     "output_type": "display_data"
    }
   ],
   "source": [
    "import matplotlib.pyplot as plt\n",
    "\n",
    "#z=[0.0, 1600.0, 3200.0, 4800.0, 6400.0, 8000.0]\n",
    "#zz=[6437606.4, 4497700.8, 2737797.6, 2737797.6, 1320496.8,0]\n",
    "\n",
    "ActualShear=AcSh(x,[0, 750,1900,3500,5500,8000],Shear)\n",
    "\n",
    "plt.plot(x, TargetShear)\n",
    "plt.step(x, ActualShear, where='post')\n",
    "plt.xlabel('Blade Specimen (cm)')\n",
    "plt.ylabel('Shear(N)')\n",
    "plt.title('Target and Actual Shear Distribution')\n",
    "plt.show()"
   ]
  },
  {
   "cell_type": "code",
   "execution_count": 22,
   "metadata": {},
   "outputs": [],
   "source": [
    "# list comprehensions are faster and cleaner, use more white space\n",
    "def objective(x,Shear,sol,TargetShear):\n",
    "    lsq_l=[]\n",
    "    ActualShear=AcSh(x,sol,Shear)\n",
    "    for i in range(0,len(x)):\n",
    "        lsq_l=np.append(lsq_l, abs(ActualShear[i]-TargetShear[i]))\n",
    "    return sum(lsq_l)"
   ]
  },
  {
   "cell_type": "code",
   "execution_count": 23,
   "metadata": {},
   "outputs": [],
   "source": [
    "# compare speed of ^2 and ^0.5 to abs \n",
    "def objective2(x,Shear,sol,TargetShear):\n",
    "    lsq_l=[None]*(len(x))\n",
    "    ActualShear=AcSh(x,sol,Shear)\n",
    "    for i in range(0,len(x)):\n",
    "        lsq_l[i]= abs(ActualShear[i]-TargetShear[i])\n",
    "        #print(lsq_l)\n",
    "    return sum(lsq_l)"
   ]
  },
  {
   "cell_type": "code",
   "execution_count": 24,
   "metadata": {},
   "outputs": [],
   "source": [
    "#checking abs(a-b) compared to **2)**.5\n",
    "def objective3(x,Shear,sol,TargetShear):\n",
    "    lsq_l=[None]*(len(x))\n",
    "    ActualShear=AcSh(x,sol,Shear)\n",
    "    for i in range(0,len(x)):\n",
    "        lsq_l[i]= (((ActualShear[i]-TargetShear[i]))**2)**0.5\n",
    "        #print(lsq_l)\n",
    "    return sum(lsq_l)"
   ]
  },
  {
   "cell_type": "markdown",
   "metadata": {},
   "source": [
    "\n",
    "# Data Frame Discussion\n",
    "\n",
    "How to use panda data frames to improve code?\n",
    "Could create dataframes for each input guess of sol, but this would only make things slower. The input data is originally input in a dataframe format, but is changed to standard Python list format soon after. The speed issue is more related to the objective function and the determination of the Actual Shear distribution for each sol input. Code is not slow up to this point, so even if it were possible, there would be no need to explore how to integrate and manipulate data in dataframe format?\n",
    "Perhaps could store TargetShear and x as a dataframe but the issue we have is more likely to be related to the AcSh function and the objective function evaluation."
   ]
  },
  {
   "cell_type": "code",
   "execution_count": null,
   "metadata": {},
   "outputs": [],
   "source": [
    "print(objective(x,Shear,[0,1000,2500,5500,7500,8000],TargetShear))\n",
    "print(objective(x,Shear,[0,1000,2500,5500,7500,8000],TargetShear))\n",
    "\n",
    "\n",
    "# sol MUST begin at 0 and end at 8000"
   ]
  },
  {
   "cell_type": "code",
   "execution_count": 25,
   "metadata": {},
   "outputs": [
    {
     "name": "stdout",
     "output_type": "stream",
     "text": [
      "188668399.38360143\n"
     ]
    }
   ],
   "source": [
    "print(objective(x,Shear,[0, 1000,2500,5500,7500,8000],TargetShear))"
   ]
  },
  {
   "cell_type": "code",
   "execution_count": 26,
   "metadata": {},
   "outputs": [
    {
     "name": "stdout",
     "output_type": "stream",
     "text": [
      "188668399.38360143\n"
     ]
    }
   ],
   "source": [
    "print(objective2(x,Shear,[0, 1000,2500,5500,7500,8000],TargetShear))"
   ]
  },
  {
   "cell_type": "code",
   "execution_count": 27,
   "metadata": {},
   "outputs": [
    {
     "name": "stdout",
     "output_type": "stream",
     "text": [
      "188668399.38360143\n"
     ]
    }
   ],
   "source": [
    "print(objective3(x,Shear,[0,1000,2500,5500,7500,8000],TargetShear))"
   ]
  },
  {
   "cell_type": "code",
   "execution_count": 12,
   "metadata": {},
   "outputs": [
    {
     "data": {
      "text/plain": [
       "[<matplotlib.lines.Line2D at 0x28c8e96d898>]"
      ]
     },
     "execution_count": 12,
     "metadata": {},
     "output_type": "execute_result"
    },
    {
     "data": {
      "image/png": "[encoded data removed]",
      "text/plain": [
       "<Figure size 432x288 with 1 Axes>"
      ]
     },
     "metadata": {
      "needs_background": "light"
     },
     "output_type": "display_data"
    }
   ],
   "source": [
    "store=[]\n",
    "\n",
    "for zz in range(1,2400,2):\n",
    "    sol=[0,zz,2500,5500,7500,8000]\n",
    "    value=objective3(x,Shear,sol,TargetShear)\n",
    "    store=np.append(store, value)\n",
    "\n",
    "    \n",
    "import matplotlib.pyplot as plt\n",
    "plt.plot(store)"
   ]
  },
  {
   "cell_type": "markdown",
   "metadata": {},
   "source": [
    "# Solver Experimentation"
   ]
  },
  {
   "cell_type": "code",
   "execution_count": 7,
   "metadata": {},
   "outputs": [
    {
     "data": {
      "text/plain": [
       "array([0., 0., 0., 0., 0., 0., 1., 1., 1., 1.])"
      ]
     },
     "execution_count": 7,
     "metadata": {},
     "output_type": "execute_result"
    }
   ],
   "source": [
    "z = np.linspace(0, 8, 10)\n",
    "\n",
    "condlist=[z<5] # can include additional conds here\n",
    "funclist=[0,1]\n",
    "\n",
    "\n",
    "\n",
    "np.piecewise(z, condlist, funclist)"
   ]
  },
  {
   "cell_type": "markdown",
   "metadata": {},
   "source": [
    "# Possible Data Input Structure"
   ]
  },
  {
   "cell_type": "code",
   "execution_count": 8,
   "metadata": {},
   "outputs": [
    {
     "name": "stdout",
     "output_type": "stream",
     "text": [
      "load only\n"
     ]
    }
   ],
   "source": [
    "if 'Fx' in list(data):\n",
    "    \n",
    "    if 'Shear' in list(data):\n",
    "        \n",
    "        if 'Bending' in list(data):\n",
    "            pass                        # All Three\n",
    "       \n",
    "    elif 'Bending' in list(data):\n",
    "        pass                            # Fx & Bending\n",
    "   \n",
    "    else:\n",
    "        print('load only')              # Fx Only\n",
    "    \n",
    "elif 'Shear' in list(data):\n",
    "    \n",
    "    if 'Bending' in list(data):\n",
    "        pass                            # Shear & Bending\n",
    "    \n",
    "    else:\n",
    "        pass                            # Shear Only\n",
    "    \n",
    "elif 'Bending' in list(data):\n",
    "    pass                                # Bending Only\n",
    "\n",
    "else:\n",
    "    print('Error- no suitable input names!!')"
   ]
  },
  {
   "cell_type": "code",
   "execution_count": 6,
   "metadata": {},
   "outputs": [
    {
     "name": "stdout",
     "output_type": "stream",
     "text": [
      "C:\\Users\\Peter's 2nd Laptop\n"
     ]
    }
   ],
   "source": [
    "cd"
   ]
  }
 ],
 "metadata": {
  "kernelspec": {
   "display_name": "Python 3",
   "language": "python",
   "name": "python3"
  },
  "language_info": {
   "codemirror_mode": {
    "name": "ipython",
    "version": 3
   },
   "file_extension": ".py",
   "mimetype": "text/x-python",
   "name": "python",
   "nbconvert_exporter": "python",
   "pygments_lexer": "ipython3",
   "version": "3.7.3"
  }
 },
 "nbformat": 4,
 "nbformat_minor": 2
}
