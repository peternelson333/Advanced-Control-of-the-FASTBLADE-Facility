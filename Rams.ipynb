{
 "cells": [
  {
   "cell_type": "code",
   "execution_count": 1,
   "metadata": {},
   "outputs": [],
   "source": [
    "# Peter Nelson 30/9/19\n",
    "# Code for use at the FASTBLADE facility, determining where to place hydraulic rams to best simulate desired loading on \n",
    "# testing specimen. This code has different modes for different inputs. One mode uses target shear & bending data and the\n",
    "# other modes use only either target load, shear or bending data. The code uses a genetic algorithm to solve an objective\n",
    "# function that is minimised when the difference between the desired and actual shear force distributions is at a global \n",
    "# minimum. The code implicitly ensures that the desired bending moment distribution is simulated by ensuring that the sum \n",
    "# of ratios required is achieved. The code also accepts inputs for how many rams are present in the sytem and upper and \n",
    "# lower bounds for ram positions."
   ]
  },
  {
   "cell_type": "code",
   "execution_count": 2,
   "metadata": {},
   "outputs": [
    {
     "name": "stdout",
     "output_type": "stream",
     "text": [
      "    radial position        Fx       Fy\n",
      "0          0.000000  1241.850 -228.450\n",
      "1        205.128205  1230.165 -230.970\n",
      "2        615.384615  1227.285 -224.010\n",
      "3       1025.641026  1215.285 -215.760\n",
      "4       1435.897436  1194.600 -206.355\n",
      "5       1846.153846  1165.680 -195.930\n",
      "6       2256.410256  1128.990 -184.605\n",
      "7       2666.666667  1084.965 -172.515\n",
      "8       3076.923077  1034.055 -159.795\n",
      "9       3487.179487   976.695 -146.565\n",
      "10      3897.435897   913.350 -132.945\n",
      "11      4307.692308   844.470 -119.085\n",
      "12      4717.948718   770.505 -105.105\n",
      "13      5128.205128   691.875  -91.140\n",
      "14      5538.461538   609.060  -77.310\n",
      "15      5948.717949   522.495  -63.765\n",
      "16      6358.974359   432.630  -50.610\n",
      "17      6769.230769   339.915  -37.980\n",
      "18      7179.487179   244.800  -26.010\n",
      "19      7589.743590   147.720  -14.835\n",
      "20      8000.000000    49.125   -4.575\n"
     ]
    }
   ],
   "source": [
    "import pandas as pd\n",
    "import numpy as np\n",
    "data = pd.read_excel(r\"C:\\Users\\Peter's 2nd Laptop\\Documents\\MATLAB\\FB again\\Matlab Code No Contraints\\testdata.xlsx\")\n",
    "number_rams=4\n",
    "print(data)"
   ]
  },
  {
   "cell_type": "markdown",
   "metadata": {},
   "source": [
    "# Defining x, Fx, Fy"
   ]
  },
  {
   "cell_type": "code",
   "execution_count": 3,
   "metadata": {},
   "outputs": [],
   "source": [
    "from numpy import interp\n",
    "\n",
    "nodes=100\n",
    "radpos=data['radial position']\n",
    "Fxin=data['Fx']\n",
    "Fyin=data['Fy']\n",
    "\n",
    "dps=len(data)-1\n",
    "L=data['radial position'][dps]\n",
    "\n",
    "x=list(range(0,nodes))\n",
    "b=L/(nodes-1)\n",
    "x[:] = [ __ * b for __ in x]\n",
    "\n",
    "Fx=interp(x,radpos,Fxin)\n",
    "Fy=interp(x,radpos,Fyin)"
   ]
  },
  {
   "cell_type": "markdown",
   "metadata": {},
   "source": [
    "# Integrating & Defining Targets"
   ]
  },
  {
   "cell_type": "code",
   "execution_count": 4,
   "metadata": {},
   "outputs": [
    {
     "data": {
      "image/png": "[encoded data removed]",
      "text/plain": [
       "<Figure size 432x288 with 1 Axes>"
      ]
     },
     "metadata": {
      "needs_background": "light"
     },
     "output_type": "display_data"
    },
    {
     "data": {
      "image/png": "[encoded data removed]",
      "text/plain": [
       "<Figure size 432x288 with 1 Axes>"
      ]
     },
     "metadata": {
      "needs_background": "light"
     },
     "output_type": "display_data"
    }
   ],
   "source": [
    "import scipy \n",
    "import numpy\n",
    "from scipy import integrate\n",
    "from numpy import append\n",
    "from numpy import trapz\n",
    "from numpy import insert\n",
    "import matplotlib.pyplot as plt\n",
    "%matplotlib inline  \n",
    "\n",
    "integralpart=scipy.integrate.cumtrapz(Fx, x)\n",
    "integralpart=numpy.insert(integralpart,0,0)\n",
    "TF=integralpart[-1]\n",
    "\n",
    "TargetShear=TF-integralpart[0]\n",
    "\n",
    "for k in range(2,len(integralpart)):\n",
    "    TargetShear=np.append(TargetShear,TF-integralpart[k-1])\n",
    "TargetShear=np.append(TargetShear,0)\n",
    "\n",
    "integralPart=scipy.integrate.cumtrapz(TargetShear,x)\n",
    "integralPart=numpy.insert(integralPart,0,0)\n",
    "bmax=integralPart[-1]\n",
    "\n",
    "TargetBending=bmax-integralPart[0]\n",
    "\n",
    "for k in range(2,len(integralPart)):\n",
    "    TargetBending=np.append(TargetBending,bmax-integralPart[k-1])\n",
    "TargetBending=np.append(TargetBending,0)\n",
    "TargetBending=TargetBending*-1\n",
    "\n",
    "\n",
    "plt.plot(TargetShear,'r')\n",
    "plt.xlabel('Blade Specimen (mm)')\n",
    "plt.ylabel('Shear')\n",
    "plt.title('Target Shear')\n",
    "plt.show()\n",
    "\n",
    "plt.plot(TargetBending,'b')\n",
    "plt.xlabel('Blade Specimen (mm)')\n",
    "plt.ylabel('Bending')\n",
    "plt.title('Target Bending')\n",
    "plt.show()"
   ]
  },
  {
   "cell_type": "markdown",
   "metadata": {},
   "source": [
    "# Using rules to get solver inputs"
   ]
  },
  {
   "cell_type": "code",
   "execution_count": 5,
   "metadata": {},
   "outputs": [
    {
     "name": "stdout",
     "output_type": "stream",
     "text": [
      "[6482798.236914601, 4862098.677685951, 3241399.1184573006, 1620699.5592286503, 0.0]\n"
     ]
    }
   ],
   "source": [
    "F=TF/number_rams;\n",
    "SumRatios=number_rams*((max(abs(TargetBending))/max(TargetShear)))/L\n",
    "\n",
    "Shear=[None]*(number_rams+1)\n",
    "for i in range(0,number_rams+1):\n",
    "    Shear[i]=TF-F*i\n",
    "    \n",
    "Shear=list(Shear)\n",
    "print(Shear)"
   ]
  },
  {
   "cell_type": "markdown",
   "metadata": {},
   "source": [
    "# Creating Actual Shear Function "
   ]
  },
  {
   "cell_type": "code",
   "execution_count": 6,
   "metadata": {},
   "outputs": [],
   "source": [
    "def AcSh(x,sol,Shear):\n",
    "    ActualShear=[]\n",
    "    for j in range(0,len(Shear)):\n",
    "        for i in range(0,len(x)):\n",
    "            if (x[i])>=sol[j] and (x[i])<sol[j+1]:\n",
    "                ActualShear=np.append(ActualShear, (Shear[j]))\n",
    "    return ActualShear"
   ]
  },
  {
   "cell_type": "markdown",
   "metadata": {},
   "source": [
    "# LSQ Function"
   ]
  },
  {
   "cell_type": "code",
   "execution_count": 7,
   "metadata": {},
   "outputs": [],
   "source": [
    "def objective2(x,Shear,sol,TargetShear):\n",
    "    lsq_l=[None]*len(x)\n",
    "    for i in range(0,len(x)):\n",
    "        lsq_l[i]= abs(AcSh(x,sol,Shear)[i]-TargetShear[i])\n",
    "    return sum(lsq_l)"
   ]
  },
  {
   "cell_type": "code",
   "execution_count": 8,
   "metadata": {},
   "outputs": [],
   "source": [
    "def objective(x,Shear,sol,TargetShear):\n",
    "    lsq_l=[]\n",
    "    for i in range(0,len(x)):\n",
    "        lsq_l=np.append(lsq_l, abs(AcSh(x,sol,Shear)[i]-TargetShear[i]))\n",
    "    return sum(lsq_l)"
   ]
  },
  {
   "cell_type": "code",
   "execution_count": 12,
   "metadata": {},
   "outputs": [
    {
     "name": "stdout",
     "output_type": "stream",
     "text": [
      "94004615.27089067\n"
     ]
    }
   ],
   "source": [
    "print(objective(x,Shear,[0, 1000,2500,5500,7500,8000],TargetShear))"
   ]
  },
  {
   "cell_type": "code",
   "execution_count": 13,
   "metadata": {},
   "outputs": [
    {
     "name": "stdout",
     "output_type": "stream",
     "text": [
      "94004615.27089067\n"
     ]
    }
   ],
   "source": [
    "print(objective2(x,Shear,[0, 1000,2500,5500,7500,8000],TargetShear))"
   ]
  },
  {
   "cell_type": "code",
   "execution_count": 20,
   "metadata": {},
   "outputs": [
    {
     "data": {
      "text/plain": [
       "[<matplotlib.lines.Line2D at 0x2a41e3c05c0>]"
      ]
     },
     "execution_count": 20,
     "metadata": {},
     "output_type": "execute_result"
    },
    {
     "data": {
      "image/png": "[encoded data removed]",
      "text/plain": [
       "<Figure size 432x288 with 1 Axes>"
      ]
     },
     "metadata": {
      "needs_background": "light"
     },
     "output_type": "display_data"
    }
   ],
   "source": [
    "store=[]\n",
    "\n",
    "for zz in range (1,100):\n",
    "    sol=[0,zz,2500,5500,7500,8000]\n",
    "    value=objective(x,Shear,sol,TargetShear)\n",
    "    store=np.append(store, value)\n",
    "\n",
    "    \n",
    "import matplotlib.pyplot as plt\n",
    "plt.plot(store)"
   ]
  },
  {
   "cell_type": "code",
   "execution_count": 15,
   "metadata": {},
   "outputs": [
    {
     "ename": "IndexError",
     "evalue": "index 99 is out of bounds for axis 0 with size 99",
     "output_type": "error",
     "traceback": [
      "\u001b[1;31m---------------------------------------------------------------------------\u001b[0m",
      "\u001b[1;31mIndexError\u001b[0m                                Traceback (most recent call last)",
      "\u001b[1;32m<ipython-input-15-8679c0699c28>\u001b[0m in \u001b[0;36m<module>\u001b[1;34m\u001b[0m\n\u001b[1;32m----> 1\u001b[1;33m \u001b[0mprint\u001b[0m\u001b[1;33m(\u001b[0m\u001b[0mobjective\u001b[0m\u001b[1;33m(\u001b[0m\u001b[0mx\u001b[0m\u001b[1;33m,\u001b[0m\u001b[0mShear\u001b[0m\u001b[1;33m,\u001b[0m\u001b[1;33m[\u001b[0m\u001b[1;36m2\u001b[0m\u001b[1;33m,\u001b[0m\u001b[1;36m1000\u001b[0m\u001b[1;33m,\u001b[0m\u001b[1;36m2500\u001b[0m\u001b[1;33m,\u001b[0m\u001b[1;36m5500\u001b[0m\u001b[1;33m,\u001b[0m\u001b[1;36m7500\u001b[0m\u001b[1;33m,\u001b[0m\u001b[1;36m8000\u001b[0m\u001b[1;33m]\u001b[0m\u001b[1;33m,\u001b[0m\u001b[0mTargetShear\u001b[0m\u001b[1;33m)\u001b[0m\u001b[1;33m)\u001b[0m\u001b[1;33m\u001b[0m\u001b[1;33m\u001b[0m\u001b[0m\n\u001b[0m\u001b[0;32m      2\u001b[0m \u001b[0mprint\u001b[0m\u001b[1;33m(\u001b[0m\u001b[0mobjective\u001b[0m\u001b[1;33m(\u001b[0m\u001b[0mx\u001b[0m\u001b[1;33m,\u001b[0m\u001b[0mShear\u001b[0m\u001b[1;33m,\u001b[0m\u001b[1;33m[\u001b[0m\u001b[1;36m0\u001b[0m\u001b[1;33m,\u001b[0m \u001b[1;36m1000\u001b[0m\u001b[1;33m,\u001b[0m\u001b[1;36m2500\u001b[0m\u001b[1;33m,\u001b[0m\u001b[1;36m5500\u001b[0m\u001b[1;33m,\u001b[0m\u001b[1;36m7500\u001b[0m\u001b[1;33m,\u001b[0m\u001b[1;36m8000\u001b[0m\u001b[1;33m]\u001b[0m\u001b[1;33m,\u001b[0m\u001b[0mTargetShear\u001b[0m\u001b[1;33m)\u001b[0m\u001b[1;33m)\u001b[0m\u001b[1;33m\u001b[0m\u001b[1;33m\u001b[0m\u001b[0m\n",
      "\u001b[1;32m<ipython-input-11-acaa9be8c667>\u001b[0m in \u001b[0;36mobjective\u001b[1;34m(x, Shear, sol, TargetShear)\u001b[0m\n\u001b[0;32m      2\u001b[0m     \u001b[0mlsq_l\u001b[0m\u001b[1;33m=\u001b[0m\u001b[1;33m[\u001b[0m\u001b[1;33m]\u001b[0m\u001b[1;33m\u001b[0m\u001b[1;33m\u001b[0m\u001b[0m\n\u001b[0;32m      3\u001b[0m     \u001b[1;32mfor\u001b[0m \u001b[0mi\u001b[0m \u001b[1;32min\u001b[0m \u001b[0mrange\u001b[0m\u001b[1;33m(\u001b[0m\u001b[1;36m0\u001b[0m\u001b[1;33m,\u001b[0m\u001b[0mlen\u001b[0m\u001b[1;33m(\u001b[0m\u001b[0mx\u001b[0m\u001b[1;33m)\u001b[0m\u001b[1;33m)\u001b[0m\u001b[1;33m:\u001b[0m\u001b[1;33m\u001b[0m\u001b[1;33m\u001b[0m\u001b[0m\n\u001b[1;32m----> 4\u001b[1;33m         \u001b[0mlsq_l\u001b[0m\u001b[1;33m=\u001b[0m\u001b[0mnp\u001b[0m\u001b[1;33m.\u001b[0m\u001b[0mappend\u001b[0m\u001b[1;33m(\u001b[0m\u001b[0mlsq_l\u001b[0m\u001b[1;33m,\u001b[0m \u001b[0mabs\u001b[0m\u001b[1;33m(\u001b[0m\u001b[0mAcSh\u001b[0m\u001b[1;33m(\u001b[0m\u001b[0mx\u001b[0m\u001b[1;33m,\u001b[0m\u001b[0msol\u001b[0m\u001b[1;33m,\u001b[0m\u001b[0mShear\u001b[0m\u001b[1;33m)\u001b[0m\u001b[1;33m[\u001b[0m\u001b[0mi\u001b[0m\u001b[1;33m]\u001b[0m\u001b[1;33m-\u001b[0m\u001b[0mTargetShear\u001b[0m\u001b[1;33m[\u001b[0m\u001b[0mi\u001b[0m\u001b[1;33m]\u001b[0m\u001b[1;33m)\u001b[0m\u001b[1;33m)\u001b[0m\u001b[1;33m\u001b[0m\u001b[1;33m\u001b[0m\u001b[0m\n\u001b[0m\u001b[0;32m      5\u001b[0m     \u001b[1;32mreturn\u001b[0m \u001b[0msum\u001b[0m\u001b[1;33m(\u001b[0m\u001b[0mlsq_l\u001b[0m\u001b[1;33m)\u001b[0m\u001b[1;33m\u001b[0m\u001b[1;33m\u001b[0m\u001b[0m\n",
      "\u001b[1;31mIndexError\u001b[0m: index 99 is out of bounds for axis 0 with size 99"
     ]
    }
   ],
   "source": [
    "print(objective(x,Shear,[2,1000,2500,5500,7500,8000],TargetShear))\n",
    "print(objective(x,Shear,[0, 1000,2500,5500,7500,8000],TargetShear))"
   ]
  },
  {
   "cell_type": "code",
   "execution_count": null,
   "metadata": {},
   "outputs": [],
   "source": []
  },
  {
   "cell_type": "code",
   "execution_count": null,
   "metadata": {},
   "outputs": [],
   "source": []
  },
  {
   "cell_type": "code",
   "execution_count": null,
   "metadata": {},
   "outputs": [],
   "source": []
  },
  {
   "cell_type": "code",
   "execution_count": 16,
   "metadata": {},
   "outputs": [
    {
     "data": {
      "image/png": "[encoded data removed]",
      "text/plain": [
       "<Figure size 432x288 with 1 Axes>"
      ]
     },
     "metadata": {
      "needs_background": "light"
     },
     "output_type": "display_data"
    }
   ],
   "source": [
    "sol=[0, 1000,2500,5500,7500,8000]\n",
    "ActualShear=[]\n",
    "\n",
    "for j in range(0,len(Shear)):\n",
    "\n",
    "    for i in range(0,len(x)):\n",
    "        \n",
    "        checkone=(x[i])>=sol[j]\n",
    "        checktwo=(x[i])<sol[j+1]\n",
    "        \n",
    "        if checkone==True and checktwo==True:\n",
    "            ActualShear=np.append(ActualShear, (Shear[j]))\n",
    "\n",
    "    \n",
    "import matplotlib.pyplot as plt\n",
    "plt.step(x, ActualShear)\n",
    "plt.show()"
   ]
  },
  {
   "cell_type": "markdown",
   "metadata": {},
   "source": [
    "# Solver Experimentation"
   ]
  },
  {
   "cell_type": "code",
   "execution_count": 7,
   "metadata": {},
   "outputs": [
    {
     "data": {
      "text/plain": [
       "array([0., 0., 0., 0., 0., 0., 1., 1., 1., 1.])"
      ]
     },
     "execution_count": 7,
     "metadata": {},
     "output_type": "execute_result"
    }
   ],
   "source": [
    "z = np.linspace(0, 8, 10)\n",
    "\n",
    "condlist=[z<5] # can include additional conds here\n",
    "funclist=[0,1]\n",
    "\n",
    "\n",
    "\n",
    "np.piecewise(z, condlist, funclist)"
   ]
  },
  {
   "cell_type": "code",
   "execution_count": null,
   "metadata": {},
   "outputs": [],
   "source": []
  },
  {
   "cell_type": "code",
   "execution_count": null,
   "metadata": {},
   "outputs": [],
   "source": []
  },
  {
   "cell_type": "markdown",
   "metadata": {},
   "source": [
    "# Possible Data Input Structure"
   ]
  },
  {
   "cell_type": "code",
   "execution_count": 8,
   "metadata": {},
   "outputs": [
    {
     "name": "stdout",
     "output_type": "stream",
     "text": [
      "load only\n"
     ]
    }
   ],
   "source": [
    "if 'Fx' in list(data):\n",
    "    \n",
    "    if 'Shear' in list(data):\n",
    "        \n",
    "        if 'Bending' in list(data):\n",
    "            pass                        # All Three\n",
    "       \n",
    "    elif 'Bending' in list(data):\n",
    "        pass                            # Fx & Bending\n",
    "   \n",
    "    else:\n",
    "        print('load only')              # Fx Only\n",
    "    \n",
    "elif 'Shear' in list(data):\n",
    "    \n",
    "    if 'Bending' in list(data):\n",
    "        pass                            # Shear & Bending\n",
    "    \n",
    "    else:\n",
    "        pass                            # Shear Only\n",
    "    \n",
    "elif 'Bending' in list(data):\n",
    "    pass                                # Bending Only\n",
    "\n",
    "else:\n",
    "    print('Error- no suitable input names!!')"
   ]
  }
 ],
 "metadata": {
  "kernelspec": {
   "display_name": "Python 3",
   "language": "python",
   "name": "python3"
  },
  "language_info": {
   "codemirror_mode": {
    "name": "ipython",
    "version": 3
   },
   "file_extension": ".py",
   "mimetype": "text/x-python",
   "name": "python",
   "nbconvert_exporter": "python",
   "pygments_lexer": "ipython3",
   "version": "3.7.3"
  }
 },
 "nbformat": 4,
 "nbformat_minor": 2
}
