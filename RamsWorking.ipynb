{
 "cells": [
  {
   "cell_type": "code",
   "execution_count": 1,
   "metadata": {},
   "outputs": [],
   "source": [
    "# Peter Nelson 30/9/19\n",
    "# Code for use at the FASTBLADE facility, determining where to place hydraulic rams to best simulate desired loading on \n",
    "# testing specimen. This code has different modes for different inputs. One mode uses target shear & bending data and the\n",
    "# other modes use only either target load, shear or bending data. The code uses a genetic algorithm to solve an objective\n",
    "# function that is minimised when the difference between the desired and actual shear force distributions is at a global \n",
    "# minimum. The code implicitly ensures that the desired bending moment distribution is simulated by ensuring that the sum \n",
    "# of ratios required is achieved. The code also accepts inputs for how many rams are present in the sytem and upper and \n",
    "# lower bounds for ram positions.\n",
    "\n",
    "# modularisable and adaptable elsewhere more than Jupyter"
   ]
  },
  {
   "cell_type": "markdown",
   "metadata": {},
   "source": [
    "# Start"
   ]
  },
  {
   "cell_type": "code",
   "execution_count": 48,
   "metadata": {},
   "outputs": [],
   "source": [
    "import pandas as pd\n",
    "import numpy as np\n",
    "\n",
    "data = pd.read_excel(r\"C:\\Users\\Peter's 2nd Laptop\\Documents\\MATLAB\\FB again\\Matlab Code No Contraints\\testdata.xlsx\")\n",
    "\n",
    "number_rams = 4\n",
    "nodes = 1000\n",
    "lower_b = 0.05\n",
    "upper_b = 0.95"
   ]
  },
  {
   "cell_type": "markdown",
   "metadata": {},
   "source": [
    "# Interpolation"
   ]
  },
  {
   "cell_type": "code",
   "execution_count": 49,
   "metadata": {},
   "outputs": [],
   "source": [
    "L = data['radial position'][len(data)-1]\n",
    "\n",
    "x = list(range(0,nodes))\n",
    "b = L/(nodes-1)\n",
    "x[:] = [ __ * b for __ in x]\n",
    "\n",
    "Fx = np.interp(x,data['radial position'],data['Fx'])\n",
    "Fy = np.interp(x,data['radial position'],data['Fy'])      #read about interpolation method"
   ]
  },
  {
   "cell_type": "markdown",
   "metadata": {},
   "source": [
    "# Defining Targets"
   ]
  },
  {
   "cell_type": "code",
   "execution_count": 50,
   "metadata": {},
   "outputs": [],
   "source": [
    "import scipy, numpy \n",
    "from scipy import integrate\n",
    "import matplotlib.pyplot as plt\n",
    "%matplotlib inline  \n",
    "\n",
    "integralpart = scipy.integrate.cumtrapz(Fx, x)\n",
    "integralpart = np.insert(integralpart,0,0)\n",
    "TF = integralpart[-1]\n",
    "\n",
    "TargetShear = [None]*len(Fx)\n",
    "TargetShear[0] = TF\n",
    "TargetShear[-1] = 0\n",
    "\n",
    "for k in range(2,len(integralpart)):\n",
    "    TargetShear[k-1] = TF-integralpart[k-1]\n",
    "\n",
    "integralPart = scipy.integrate.cumtrapz(TargetShear,x)\n",
    "integralPart = numpy.insert(integralPart,0,0)\n",
    "bmax = integralPart[-1]\n",
    "\n",
    "TargetBending = [None]*len(Fx)\n",
    "TargetBending[0] = -bmax\n",
    "TargetBending[-1] = 0\n",
    "\n",
    "for k in range(1,len(integralPart)):\n",
    "    TargetBending[k] = integralPart[k]-bmax"
   ]
  },
  {
   "cell_type": "code",
   "execution_count": 51,
   "metadata": {},
   "outputs": [],
   "source": [
    "F = TF/number_rams;\n",
    "SumRatios = number_rams*(max(map(abs, TargetBending)))/max(TargetShear)/L"
   ]
  },
  {
   "cell_type": "markdown",
   "metadata": {},
   "source": [
    "# Actual Shear & Bending"
   ]
  },
  {
   "cell_type": "code",
   "execution_count": 52,
   "metadata": {},
   "outputs": [],
   "source": [
    "def AcSh(sol):\n",
    "    \n",
    "    if sol[-1] != L:\n",
    "        sol = np.append(sol,L)\n",
    "    \n",
    "    ActualShear = [TF]*len(x)\n",
    "\n",
    "    for i in range(0,len(x)):\n",
    "        for j in range( 0,len(sol)-1):\n",
    "            if x[i] > sol[j]:\n",
    "                ActualShear[i] = ActualShear[i]-F\n",
    "\n",
    "    return(ActualShear)"
   ]
  },
  {
   "cell_type": "code",
   "execution_count": 53,
   "metadata": {},
   "outputs": [],
   "source": [
    "def AcBe(AcSh):\n",
    "    ActualShear = AcSh\n",
    "    \n",
    "    integralPart = scipy.integrate.cumtrapz(ActualShear,x)\n",
    "    integralPart = numpy.insert(integralPart,0,0)\n",
    "    bmax = integralPart[-1]\n",
    "    \n",
    "    ActualBending = [None]*len(Fx)\n",
    "    ActualBending[0] = -bmax\n",
    "    ActualBending[-1] = 0\n",
    "\n",
    "    for k in range(1,len(integralPart)):\n",
    "        ActualBending[k] = integralPart[k]-bmax\n",
    "    \n",
    "    return(ActualBending)"
   ]
  },
  {
   "cell_type": "markdown",
   "metadata": {},
   "source": [
    "# Objective"
   ]
  },
  {
   "cell_type": "code",
   "execution_count": 54,
   "metadata": {},
   "outputs": [],
   "source": [
    "def obj(sol):\n",
    "    \n",
    "    if len(sol) != number_rams:\n",
    "        print('wrong number of rams')\n",
    "        \n",
    "    else:  \n",
    "        sol = np.append(sol,L)\n",
    "    \n",
    "        lsq_l = [None]*(len(x))\n",
    "        ActualShear = AcSh(sol)\n",
    "        for i in range(0,len(x)):\n",
    "            lsq_l[i] = abs(ActualShear[i]-TargetShear[i])\n",
    "        return sum(lsq_l)"
   ]
  },
  {
   "cell_type": "markdown",
   "metadata": {},
   "source": [
    "# Solver"
   ]
  },
  {
   "cell_type": "code",
   "execution_count": 55,
   "metadata": {},
   "outputs": [
    {
     "name": "stdout",
     "output_type": "stream",
     "text": [
      "0:03:05.625978\n",
      "[ 658.73729652 2014.10938653 3530.89776256 5566.51173246]\n"
     ]
    }
   ],
   "source": [
    "import datetime # can remove at some point\n",
    "\n",
    "bounds = [(lower_b*L, upper_b*L)]*number_rams\n",
    "\n",
    "before = datetime.datetime.now()  \n",
    "solfinal = scipy.optimize.dual_annealing(obj,bounds)  # consider random state since same obj func found\n",
    "after = datetime.datetime.now()\n",
    "print(after-before)\n",
    "\n",
    "# solfinal=scipy.optimize.differential_evolution(obj,bounds,maxiter=10000,popsize=120,tol=0.001,mutation=(0.5,1.9))\n",
    "# solfinal=scipy.optimize.brute(obj,bounds)\n",
    "# other one is terrible\n",
    "\n",
    "n = np.sort(solfinal.x)\n",
    "print(n)"
   ]
  },
  {
   "cell_type": "markdown",
   "metadata": {},
   "source": [
    "# Results"
   ]
  },
  {
   "cell_type": "code",
   "execution_count": 66,
   "metadata": {},
   "outputs": [
    {
     "data": {
      "image/png": "[encoded data removed]",
      "text/plain": [
       "<Figure size 432x288 with 1 Axes>"
      ]
     },
     "metadata": {
      "needs_background": "light"
     },
     "output_type": "display_data"
    },
    {
     "data": {
      "image/png": "[encoded data removed]",
      "text/plain": [
       "<Figure size 432x288 with 1 Axes>"
      ]
     },
     "metadata": {
      "needs_background": "light"
     },
     "output_type": "display_data"
    }
   ],
   "source": [
    "import matplotlib.pyplot as plt\n",
    "\n",
    "ActualShear = AcSh(n)\n",
    "ActualBending = AcBe(ActualShear)\n",
    "\n",
    "plt.plot(x, TargetShear,'r', label = 'Target',ls='--')\n",
    "plt.step(x, ActualShear, 'b', label = 'Actual', where='post',lw=0.9)\n",
    "plt.xlabel('Blade Specimen (cm)')\n",
    "plt.ylabel('Shear(N)')\n",
    "plt.title('Shear Force Diagram')\n",
    "plt.legend(loc='best')\n",
    "# plt.savefig('ShearForceDiagram.png')\n",
    "plt.show()\n",
    "\n",
    "plt.plot(TargetBending, 'r', label = 'Target',ls='--')\n",
    "plt.plot(ActualBending, 'b', label = 'Actual',lw=0.9)\n",
    "plt.xlabel('Blade Specimen (cm)')\n",
    "plt.ylabel('Bending (Nm)')\n",
    "plt.title('Bending Moment Diagram')\n",
    "plt.legend(loc='best')\n",
    "# plt.savefig('BendingMomentDiagram.png')\n",
    "plt.show()"
   ]
  },
  {
   "cell_type": "markdown",
   "metadata": {},
   "source": [
    "# Exporting to Excel"
   ]
  },
  {
   "cell_type": "code",
   "execution_count": null,
   "metadata": {},
   "outputs": [],
   "source": [
    "#how to export solution of where rams are acting???"
   ]
  },
  {
   "cell_type": "code",
   "execution_count": 36,
   "metadata": {},
   "outputs": [],
   "source": [
    "d = {'Nodes':x,'TargetShear':TargetShear,'ActualShear':ActualShear,'TargetBending':TargetBending,'ActualBending':ActualBending}\n",
    "df = pd.DataFrame(data=d)\n",
    "df.to_csv('newcsv.csv', index= False)"
   ]
  },
  {
   "cell_type": "code",
   "execution_count": 189,
   "metadata": {},
   "outputs": [
    {
     "data": {
      "text/plain": [
       "[<matplotlib.lines.Line2D at 0x1e24fb4b6d8>]"
      ]
     },
     "execution_count": 189,
     "metadata": {},
     "output_type": "execute_result"
    },
    {
     "data": {
      "image/png": "[encoded data removed]",
      "text/plain": [
       "<Figure size 432x288 with 1 Axes>"
      ]
     },
     "metadata": {
      "needs_background": "light"
     },
     "output_type": "display_data"
    }
   ],
   "source": [
    "#when 1000 nodes are used\n",
    "ramcount=[1,   2,   3,  4,  5,  6,   7,  8,  9,  10,  11, 12,  13,  14,   15 ]\n",
    "seconds=[2.5, 7.25, 13, 23, 30, 43, 58, 65, 82, 108, 136, 157, 201, 217, 227]\n",
    "\n",
    "\n",
    "fig, ax = plt.subplots()\n",
    "ax.plot(ramcount, seconds)"
   ]
  },
  {
   "cell_type": "code",
   "execution_count": 170,
   "metadata": {},
   "outputs": [
    {
     "ename": "SyntaxError",
     "evalue": "invalid syntax (<ipython-input-170-5440f75f0c37>, line 1)",
     "output_type": "error",
     "traceback": [
      "\u001b[1;36m  File \u001b[1;32m\"<ipython-input-170-5440f75f0c37>\"\u001b[1;36m, line \u001b[1;32m1\u001b[0m\n\u001b[1;33m    [ 874.07631605 2738.02712263 5147.34189695]\u001b[0m\n\u001b[1;37m                               ^\u001b[0m\n\u001b[1;31mSyntaxError\u001b[0m\u001b[1;31m:\u001b[0m invalid syntax\n"
     ]
    }
   ],
   "source": [
    "[ 874.07631605 2738.02712263 5147.34189695]"
   ]
  },
  {
   "cell_type": "code",
   "execution_count": 128,
   "metadata": {},
   "outputs": [
    {
     "name": "stdout",
     "output_type": "stream",
     "text": [
      "488658675.91768974\n",
      "-2.9617058093700295e-06\n"
     ]
    }
   ],
   "source": [
    "a=obj(n)\n",
    "print(a)\n",
    "print((488657228.6544505-a)/a)"
   ]
  },
  {
   "cell_type": "code",
   "execution_count": 129,
   "metadata": {},
   "outputs": [],
   "source": [
    "#https://docs.scipy.org/doc/scipy/reference/generated/scipy.optimize.differential_evolution.html"
   ]
  },
  {
   "cell_type": "code",
   "execution_count": null,
   "metadata": {},
   "outputs": [],
   "source": [
    "store=[]\n",
    "\n",
    "for zz in range(0,4000,1):\n",
    "    sol=[zz,5500,7500]\n",
    "    value=obj(sol)\n",
    "    store=np.append(store, value)\n",
    "    \n",
    "    \n",
    "len(store)\n",
    "import matplotlib.pyplot as plt\n",
    "%matplotlib inline  \n",
    "    \n",
    "plt.plot(store)"
   ]
  }
 ],
 "metadata": {
  "kernelspec": {
   "display_name": "Python 3",
   "language": "python",
   "name": "python3"
  },
  "language_info": {
   "codemirror_mode": {
    "name": "ipython",
    "version": 3
   },
   "file_extension": ".py",
   "mimetype": "text/x-python",
   "name": "python",
   "nbconvert_exporter": "python",
   "pygments_lexer": "ipython3",
   "version": "3.7.3"
  }
 },
 "nbformat": 4,
 "nbformat_minor": 2
}
