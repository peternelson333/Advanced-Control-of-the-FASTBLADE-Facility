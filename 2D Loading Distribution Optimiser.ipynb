{
 "cells": [
  {
   "cell_type": "code",
   "execution_count": 1,
   "metadata": {},
   "outputs": [],
   "source": [
    "# Peter Nelson 5/1/19\n",
    "# Code for use at the FASTBLADE facility, determining where and at what angle to place inclined hydraulic rams to best\n",
    "# simulate desired loading in two dimensions. Desired loading distributions are integrated to give target shear and bending \n",
    "# distributions. A dual annealing SciPy solver is implemented to minimise an objective function describing the discrepancy \n",
    "# between the sum of the target and achieved shear distributions for both dimensions. Upper and Lower Bounds can be \n",
    "# specified as required."
   ]
  },
  {
   "cell_type": "markdown",
   "metadata": {},
   "source": [
    "# Start"
   ]
  },
  {
   "cell_type": "code",
   "execution_count": 2,
   "metadata": {},
   "outputs": [],
   "source": [
    "import pandas as pd\n",
    "import numpy as np\n",
    "import scipy, datetime, math\n",
    "from scipy import integrate\n",
    "import matplotlib.pyplot as plt\n",
    "%matplotlib inline  \n",
    "\n",
    "data = pd.read_excel(r\"C:\\Users\\Peter's 2nd Laptop\\Documents\\MATLAB\\FB again\\Matlab Code No Contraints\\testdata.xlsx\")\n",
    "\n",
    "number_rams = 3\n",
    "nodes = 50\n",
    "lower_b = 0.1\n",
    "upper_b = 0.95"
   ]
  },
  {
   "cell_type": "markdown",
   "metadata": {},
   "source": [
    "# Interpolation"
   ]
  },
  {
   "cell_type": "code",
   "execution_count": 3,
   "metadata": {},
   "outputs": [],
   "source": [
    "L = data['radial position'][len(data)-1]\n",
    "\n",
    "x = list(range(0,nodes))\n",
    "b = L/(nodes-1)\n",
    "x[:] = [ __ * b for __ in x]\n",
    "\n",
    "Fx = np.interp(x,data['radial position'],data['Fx'])              \n",
    "Fy = np.interp(x,data['radial position'],data['Fy'])              "
   ]
  },
  {
   "cell_type": "markdown",
   "metadata": {},
   "source": [
    "# Defining Targets"
   ]
  },
  {
   "cell_type": "code",
   "execution_count": 4,
   "metadata": {},
   "outputs": [],
   "source": [
    "def targets(load):\n",
    "\n",
    "    integralpart = scipy.integrate.cumtrapz(load, x)\n",
    "    integralpart = np.insert(integralpart,0,0)\n",
    "    TF = integralpart[-1]\n",
    "\n",
    "    TargetShear = [None]*len(load)\n",
    "    TargetShear[0] = TF\n",
    "\n",
    "    for k in range(1,len(integralpart)):\n",
    "        TargetShear[k] = TF-integralpart[k]\n",
    "\n",
    "    integralPart = scipy.integrate.cumtrapz(TargetShear,x)\n",
    "    integralPart = np.insert(integralPart,0,0)\n",
    "    bmax = integralPart[-1]\n",
    "\n",
    "    TargetBending = [None]*len(load)\n",
    "    TargetBending[0] = -bmax\n",
    "\n",
    "    for k in range(1,len(integralPart)):\n",
    "        TargetBending[k] = integralPart[k]-bmax\n",
    "        \n",
    "    return TargetShear,TargetBending, TF, bmax"
   ]
  },
  {
   "cell_type": "code",
   "execution_count": 5,
   "metadata": {},
   "outputs": [],
   "source": [
    "TargetShearx,TargetBendingx, TFx, bmaxx = targets(Fx)\n",
    "TargetSheary,TargetBendingy, TFy, bmaxy = targets(Fy)\n",
    "F = TFy/number_rams\n",
    "Fvec = [F]*number_rams"
   ]
  },
  {
   "cell_type": "markdown",
   "metadata": {},
   "source": [
    "# Actual Shear & Bending for Angled Loading"
   ]
  },
  {
   "cell_type": "code",
   "execution_count": 6,
   "metadata": {},
   "outputs": [],
   "source": [
    "def angledF(avec):\n",
    "          \n",
    "    Fx = [None]*len(avec)\n",
    "    Fy = [None]*len(avec)\n",
    "    \n",
    "    for i in range(0,len(avec)):\n",
    "        Fx[i] = Fvec[i]*math.sin(math.radians(avec[i]))\n",
    "        Fy[i] = Fvec[i]*math.cos(math.radians(avec[i]))\n",
    "        \n",
    "    return Fx,Fy"
   ]
  },
  {
   "cell_type": "code",
   "execution_count": 7,
   "metadata": {},
   "outputs": [],
   "source": [
    "def AcSh2D(longsol):\n",
    "        \n",
    "    mid = int(number_rams)\n",
    "    avec = longsol[0:mid]\n",
    "    lvec = longsol[mid:mid*2]\n",
    "    \n",
    "    Fx,Fy = angledF(avec)\n",
    "    \n",
    "    ActualShearx = [TFx]*len(x)\n",
    "    ActualSheary = [TFy]*len(x)\n",
    "    \n",
    "    for i in range(0,len(x)):\n",
    "        for j in range(0,len(lvec)):\n",
    "            if x[i] > lvec[j]:\n",
    "                ActualShearx[i] = ActualShearx[i]-Fx[j]\n",
    "                ActualSheary[i] = ActualSheary[i]-Fy[j]    \n",
    "    \n",
    "    return ActualSheary, ActualShearx"
   ]
  },
  {
   "cell_type": "code",
   "execution_count": 8,
   "metadata": {},
   "outputs": [],
   "source": [
    "def AcBe(AcShy, AcShx):\n",
    "    \n",
    "    integralParty = scipy.integrate.cumtrapz(AcShy,x)\n",
    "    integralParty = np.insert(integralParty,0,0)\n",
    "    bmaxy = integralParty[-1]\n",
    "    \n",
    "    ActualBendingy = [None]*len(Fx)\n",
    "    ActualBendingy[0] = -bmaxy\n",
    "\n",
    "    for k in range(1,len(integralParty)):\n",
    "        ActualBendingy[k] = integralParty[k]-bmaxy\n",
    "        \n",
    "    integralPartx = scipy.integrate.cumtrapz(AcShx,x)\n",
    "    integralPartx = np.insert(integralPartx,0,0)\n",
    "    bmaxy = integralPartx[-1]\n",
    "    \n",
    "    ActualBendingx = [None]*len(Fx)\n",
    "    ActualBendingx[0] = -bmaxx\n",
    "\n",
    "    for k in range(1,len(integralPartx)):\n",
    "        ActualBendingx[k] = integralPartx[k]-bmaxx\n",
    "        \n",
    "    \n",
    "    return(ActualBendingy,ActualBendingx)"
   ]
  },
  {
   "cell_type": "markdown",
   "metadata": {},
   "source": [
    "# Objective Function"
   ]
  },
  {
   "cell_type": "code",
   "execution_count": 9,
   "metadata": {},
   "outputs": [],
   "source": [
    "def obj(longsol):\n",
    "    \n",
    "    if len(longsol) != number_rams*2:\n",
    "        print('wrong number of rams')\n",
    "        # could add a condition where sol is ran with filled in 0s\n",
    "        \n",
    "    else:      \n",
    "        lsq_l = [None]*(len(x))\n",
    "        ActualSheary, ActualShearx  = AcSh2D(longsol)\n",
    "        for i in range(0,len(x)):\n",
    "            lsq_l[i] = abs(ActualSheary[i]-TargetSheary[i]) + abs(ActualShearx[i]-TargetShearx[i])\n",
    "        \n",
    "        return sum(lsq_l)"
   ]
  },
  {
   "cell_type": "markdown",
   "metadata": {},
   "source": [
    "# Solver"
   ]
  },
  {
   "cell_type": "code",
   "execution_count": 13,
   "metadata": {},
   "outputs": [
    {
     "name": "stdout",
     "output_type": "stream",
     "text": [
      "[ 6.30618465  9.38305393 10.39263987]\n",
      "[ 826.99361725 2773.18603813 4927.19322177]\n",
      "27850111.867958527\n"
     ]
    }
   ],
   "source": [
    "bounds = [(0,90)]*number_rams + [(lower_b*L, upper_b*L)]*number_rams\n",
    "solfinal = scipy.optimize.dual_annealing(obj,bounds, maxiter=5000)  # consider random state since same obj func found\n",
    "\n",
    "n = np.sort(solfinal.x)\n",
    "angles = n[0:int(number_rams)]\n",
    "positions = n[int(number_rams):int(number_rams*2)]\n",
    "print(angles)\n",
    "print(positions)\n",
    "print(obj(n))"
   ]
  },
  {
   "cell_type": "markdown",
   "metadata": {},
   "source": [
    "# Results"
   ]
  },
  {
   "cell_type": "code",
   "execution_count": 11,
   "metadata": {},
   "outputs": [
    {
     "data": {
      "image/png": "[encoded data removed]",
      "text/plain": [
       "<Figure size 432x288 with 1 Axes>"
      ]
     },
     "metadata": {
      "needs_background": "light"
     },
     "output_type": "display_data"
    },
    {
     "data": {
      "image/png": "[encoded data removed]",
      "text/plain": [
       "<Figure size 432x288 with 1 Axes>"
      ]
     },
     "metadata": {
      "needs_background": "light"
     },
     "output_type": "display_data"
    }
   ],
   "source": [
    "ActualSheary, ActualShearx = AcSh2D(n)\n",
    "ActualBendingy, ActualBendingx = AcBe(ActualSheary, ActualShearx)\n",
    "\n",
    "\n",
    "size= 13.5\n",
    "\n",
    "plt.plot(x, TargetSheary,'r', label = 'Target Shear Force (x)',ls='--')\n",
    "plt.plot(x, TargetShearx,'black', label = 'Target Shear Force (y)',ls='--')\n",
    "plt.step(x, ActualSheary,'b', label = 'Actual Shear Force (x)', where='post',lw=0.9)\n",
    "plt.step(x, ActualShearx,'g', label = 'Actual Shear Force (y)', where='post',lw=0.9)\n",
    "plt.ticklabel_format(style='sci', axis='y', scilimits=(0,0))\n",
    "plt.xlabel('Radial Position along Specimen (mm)',fontsize=size)\n",
    "plt.tick_params(axis='both', which='major', labelsize=13.5)\n",
    "plt.ylabel('Shear Force (N)',fontsize=size)\n",
    "plt.title('Shear Force Diagram (Lower Bound=0.3)')\n",
    "plt.legend(loc='best')\n",
    "plt.tight_layout()\n",
    "plt.savefig('ShearForceDiagram2D.png')\n",
    "plt.show()\n",
    "\n",
    "\n",
    "plt.plot(x,TargetBendingy, 'r', label = 'Target Bending Moment (x)',ls='--')\n",
    "plt.plot(x,TargetBendingx, 'black',label = 'Target Bending Moment (y)',ls='--')\n",
    "plt.plot(x, ActualBendingy, 'b', label = 'Actual Bending Moment (x)',lw=0.9)\n",
    "plt.plot(x, ActualBendingx, 'g', label = 'Actual Bending Moment (y)',lw=0.9)\n",
    "plt.tick_params(axis='both', which='major', labelsize=13.5)\n",
    "plt.ticklabel_format(style='sci', axis='y', scilimits=(0,0))\n",
    "plt.xlabel('Radial Position along Specimen (mm)',fontsize=size)\n",
    "plt.ylabel('Bending Moment (Nm)',fontsize=size)\n",
    "plt.title('Bending Moment Diagram (Lower Bound=0.3)',x=.55)\n",
    "plt.legend(loc='best')\n",
    "plt.tight_layout()\n",
    "plt.savefig('BendingMomentDiagram2D.png')\n",
    "plt.show()"
   ]
  },
  {
   "cell_type": "markdown",
   "metadata": {},
   "source": [
    "# Exporting to Excel"
   ]
  },
  {
   "cell_type": "code",
   "execution_count": 12,
   "metadata": {},
   "outputs": [],
   "source": [
    "import pandas as pd\n",
    "d = {'Nodes':x,'TargetShearx':TargetShearx,'ActualShearx':ActualShearx, 'TargetSheary': TargetSheary,'ActualSheary':ActualSheary, 'TargetBendingx':TargetBendingx,'ActualBendingx':ActualBendingx, 'TargetBendingy':TargetBendingy,'ActualBendingy':ActualBendingy}\n",
    "df = pd.DataFrame(data=d)\n",
    "\n",
    "d2={'Angles': angles, 'Positions':positions}\n",
    "df2=pd.DataFrame(data=d2)\n",
    "\n",
    "writer = pd.ExcelWriter('Results.xlsx')\n",
    "\n",
    "df2.to_excel(writer,sheet_name='Solution',index=False)\n",
    "df.to_excel(writer, sheet_name='Output',index=False)\n",
    "writer.save()\n",
    "writer.close()"
   ]
  }
 ],
 "metadata": {
  "kernelspec": {
   "display_name": "Python 3",
   "language": "python",
   "name": "python3"
  },
  "language_info": {
   "codemirror_mode": {
    "name": "ipython",
    "version": 3
   },
   "file_extension": ".py",
   "mimetype": "text/x-python",
   "name": "python",
   "nbconvert_exporter": "python",
   "pygments_lexer": "ipython3",
   "version": "3.7.3"
  }
 },
 "nbformat": 4,
 "nbformat_minor": 2
}
