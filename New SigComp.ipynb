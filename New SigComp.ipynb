{
 "cells": [
  {
   "cell_type": "code",
   "execution_count": 1,
   "metadata": {},
   "outputs": [],
   "source": [
    "import numpy as np\n",
    "import matplotlib.pyplot as plt"
   ]
  },
  {
   "cell_type": "code",
   "execution_count": 10,
   "metadata": {},
   "outputs": [],
   "source": [
    "import matplotlib\n",
    "\n",
    "def sigcompar(s1,s2,f):\n",
    "    \n",
    "    if len(s1)==len(s2):\n",
    "    \n",
    "        max1=max(s1)\n",
    "        max2=max(s2)\n",
    "    \n",
    "        std1=np.std(s1)\n",
    "        std2=np.std(s2)\n",
    "    \n",
    "        mean1=np.mean(s1)\n",
    "        mean2=np.mean(s2)\n",
    "        \n",
    "        length=len(s1)\n",
    "      \n",
    "        gain=np.polyfit(s1,s2,1)[0]\n",
    "        \n",
    "        \n",
    "        init=[]\n",
    "        ini=[]\n",
    "        \n",
    "        for i in range(0,len(s1)):\n",
    "            init.append(abs(s2[i]-s1[i]))\n",
    "            ini.append((s1[i]-mean1)*(s2[i]-mean2)/(std1*std2)) \n",
    "            \n",
    "                       \n",
    "        r_sq=(sum(ini)/length)**2        \n",
    "        lsq=sum(init)\n",
    "        \n",
    "        forcor1=np.asarray(s1)\n",
    "        forcor2=np.asarray(s2)\n",
    "                \n",
    "        #lag\n",
    "        #lagtime\n",
    "\n",
    "    \n",
    "        return max1, max2, std1, std2, mean1, mean2, length, gain, lsq, r_sq#, z\n",
    "\n",
    "    else:\n",
    "        print('Signal Lengths are Unequal')"
   ]
  },
  {
   "cell_type": "code",
   "execution_count": 23,
   "metadata": {},
   "outputs": [
    {
     "name": "stdout",
     "output_type": "stream",
     "text": [
      "<class 'list'>\n",
      "[ 3 10 20 32 29 18  8]\n"
     ]
    }
   ],
   "source": [
    "in1=[1,2,3,4]\n",
    "in2=[2,3,4,3]\n",
    "fin=1\n",
    "\n",
    "print(type(in1))\n",
    "\n",
    "\n",
    "z=np.correlate(in1,in2,\"full\") # this is the same as matlab\n",
    "#https://stackoverflow.com/questions/25830840/python-cross-correlation\n",
    "\n",
    "print(z)"
   ]
  },
  {
   "cell_type": "code",
   "execution_count": 21,
   "metadata": {},
   "outputs": [
    {
     "data": {
      "text/plain": [
       "(4,\n",
       " 4,\n",
       " 1.118033988749895,\n",
       " 0.7071067811865476,\n",
       " 2.5,\n",
       " 3.0,\n",
       " 4,\n",
       " 0.3999999999999999,\n",
       " 4,\n",
       " 0.4)"
      ]
     },
     "execution_count": 21,
     "metadata": {},
     "output_type": "execute_result"
    }
   ],
   "source": [
    "sigcompar(in1,in2,fin)"
   ]
  },
  {
   "cell_type": "code",
   "execution_count": 24,
   "metadata": {},
   "outputs": [
    {
     "name": "stdout",
     "output_type": "stream",
     "text": [
      "[ 14  29  58  84  93 183 114 100 235 172 178 503 361 294 917 371 301 421\n",
      " 246 201 393 171 172 281 193 132  62  30  10]\n"
     ]
    }
   ],
   "source": [
    "in7=[2,3,6,2,1,6,2,3,7,4,3,34,6,5,5]\n",
    "in8=[2,4,6,2,1,8,2,3,5,2,3,20,2,4,7]\n",
    "\n",
    "z=np.correlate(in7,in8,\"full\") # this is the same as matlab\n",
    "print(z)\n"
   ]
  },
  {
   "cell_type": "code",
   "execution_count": 13,
   "metadata": {},
   "outputs": [
    {
     "data": {
      "text/plain": [
       "(34,\n",
       " 20,\n",
       " 7.70685120886316,\n",
       " 4.538232646698002,\n",
       " 5.933333333333334,\n",
       " 4.733333333333333,\n",
       " 15,\n",
       " 0.5564202334630352,\n",
       " 28,\n",
       " 0.8928659594370154)"
      ]
     },
     "execution_count": 13,
     "metadata": {},
     "output_type": "execute_result"
    }
   ],
   "source": [
    "in7=[2,3,6,2,1,6,2,3,7,4,3,34,6,5,5]\n",
    "in8=[2,4,6,2,1,8,2,3,5,2,3,20,2,4,7]\n",
    "sigcompar(in7,in8,1)"
   ]
  },
  {
   "cell_type": "code",
   "execution_count": 6,
   "metadata": {},
   "outputs": [
    {
     "data": {
      "text/plain": [
       "array([1., 8.])"
      ]
     },
     "execution_count": 6,
     "metadata": {},
     "output_type": "execute_result"
    }
   ],
   "source": [
    "in4=(-2,0,2)\n",
    "in5=(6,8,10)\n",
    "np.polyfit(in4,in5,1)"
   ]
  },
  {
   "cell_type": "code",
   "execution_count": 7,
   "metadata": {},
   "outputs": [
    {
     "ename": "NameError",
     "evalue": "name 'xcorr' is not defined",
     "output_type": "error",
     "traceback": [
      "\u001b[1;31m---------------------------------------------------------------------------\u001b[0m",
      "\u001b[1;31mNameError\u001b[0m                                 Traceback (most recent call last)",
      "\u001b[1;32m<ipython-input-7-41227d72543b>\u001b[0m in \u001b[0;36m<module>\u001b[1;34m\u001b[0m\n\u001b[1;32m----> 1\u001b[1;33m \u001b[0mxcorr\u001b[0m\u001b[1;33m(\u001b[0m\u001b[0min4\u001b[0m\u001b[1;33m,\u001b[0m \u001b[0min5\u001b[0m\u001b[1;33m)\u001b[0m\u001b[1;33m\u001b[0m\u001b[1;33m\u001b[0m\u001b[0m\n\u001b[0m",
      "\u001b[1;31mNameError\u001b[0m: name 'xcorr' is not defined"
     ]
    }
   ],
   "source": [
    "xcorr(in4, in5)"
   ]
  },
  {
   "cell_type": "code",
   "execution_count": 63,
   "metadata": {},
   "outputs": [
    {
     "ename": "TypeError",
     "evalue": "ufunc 'true_divide' output (typecode 'd') could not be coerced to provided output parameter (typecode 'l') according to the casting rule ''same_kind''",
     "output_type": "error",
     "traceback": [
      "\u001b[1;31m---------------------------------------------------------------------------\u001b[0m",
      "\u001b[1;31mTypeError\u001b[0m                                 Traceback (most recent call last)",
      "\u001b[1;32m<ipython-input-63-b12f56ecbaa9>\u001b[0m in \u001b[0;36m<module>\u001b[1;34m\u001b[0m\n\u001b[1;32m----> 1\u001b[1;33m \u001b[0mplt\u001b[0m\u001b[1;33m.\u001b[0m\u001b[0mxcorr\u001b[0m\u001b[1;33m(\u001b[0m\u001b[0min4\u001b[0m\u001b[1;33m,\u001b[0m \u001b[0min5\u001b[0m\u001b[1;33m)\u001b[0m\u001b[1;33m\u001b[0m\u001b[1;33m\u001b[0m\u001b[0m\n\u001b[0m",
      "\u001b[1;32mC:\\Anaconda3\\lib\\site-packages\\matplotlib\\pyplot.py\u001b[0m in \u001b[0;36mxcorr\u001b[1;34m(x, y, normed, detrend, usevlines, maxlags, data, **kwargs)\u001b[0m\n\u001b[0;32m   3043\u001b[0m         \u001b[0mx\u001b[0m\u001b[1;33m,\u001b[0m \u001b[0my\u001b[0m\u001b[1;33m,\u001b[0m \u001b[0mnormed\u001b[0m\u001b[1;33m=\u001b[0m\u001b[0mnormed\u001b[0m\u001b[1;33m,\u001b[0m \u001b[0mdetrend\u001b[0m\u001b[1;33m=\u001b[0m\u001b[0mdetrend\u001b[0m\u001b[1;33m,\u001b[0m \u001b[0musevlines\u001b[0m\u001b[1;33m=\u001b[0m\u001b[0musevlines\u001b[0m\u001b[1;33m,\u001b[0m\u001b[1;33m\u001b[0m\u001b[1;33m\u001b[0m\u001b[0m\n\u001b[0;32m   3044\u001b[0m         maxlags=maxlags, **({\"data\": data} if data is not None else\n\u001b[1;32m-> 3045\u001b[1;33m         {}), **kwargs)\n\u001b[0m\u001b[0;32m   3046\u001b[0m \u001b[1;33m\u001b[0m\u001b[0m\n\u001b[0;32m   3047\u001b[0m \u001b[1;33m\u001b[0m\u001b[0m\n",
      "\u001b[1;32mC:\\Anaconda3\\lib\\site-packages\\matplotlib\\__init__.py\u001b[0m in \u001b[0;36minner\u001b[1;34m(ax, data, *args, **kwargs)\u001b[0m\n\u001b[0;32m   1808\u001b[0m                         \u001b[1;34m\"the Matplotlib list!)\"\u001b[0m \u001b[1;33m%\u001b[0m \u001b[1;33m(\u001b[0m\u001b[0mlabel_namer\u001b[0m\u001b[1;33m,\u001b[0m \u001b[0mfunc\u001b[0m\u001b[1;33m.\u001b[0m\u001b[0m__name__\u001b[0m\u001b[1;33m)\u001b[0m\u001b[1;33m,\u001b[0m\u001b[1;33m\u001b[0m\u001b[1;33m\u001b[0m\u001b[0m\n\u001b[0;32m   1809\u001b[0m                         RuntimeWarning, stacklevel=2)\n\u001b[1;32m-> 1810\u001b[1;33m             \u001b[1;32mreturn\u001b[0m \u001b[0mfunc\u001b[0m\u001b[1;33m(\u001b[0m\u001b[0max\u001b[0m\u001b[1;33m,\u001b[0m \u001b[1;33m*\u001b[0m\u001b[0margs\u001b[0m\u001b[1;33m,\u001b[0m \u001b[1;33m**\u001b[0m\u001b[0mkwargs\u001b[0m\u001b[1;33m)\u001b[0m\u001b[1;33m\u001b[0m\u001b[1;33m\u001b[0m\u001b[0m\n\u001b[0m\u001b[0;32m   1811\u001b[0m \u001b[1;33m\u001b[0m\u001b[0m\n\u001b[0;32m   1812\u001b[0m         inner.__doc__ = _add_data_doc(inner.__doc__,\n",
      "\u001b[1;32mC:\\Anaconda3\\lib\\site-packages\\matplotlib\\axes\\_axes.py\u001b[0m in \u001b[0;36mxcorr\u001b[1;34m(self, x, y, normed, detrend, usevlines, maxlags, **kwargs)\u001b[0m\n\u001b[0;32m   1969\u001b[0m \u001b[1;33m\u001b[0m\u001b[0m\n\u001b[0;32m   1970\u001b[0m         \u001b[1;32mif\u001b[0m \u001b[0mnormed\u001b[0m\u001b[1;33m:\u001b[0m\u001b[1;33m\u001b[0m\u001b[1;33m\u001b[0m\u001b[0m\n\u001b[1;32m-> 1971\u001b[1;33m             \u001b[0mcorrels\u001b[0m \u001b[1;33m/=\u001b[0m \u001b[0mnp\u001b[0m\u001b[1;33m.\u001b[0m\u001b[0msqrt\u001b[0m\u001b[1;33m(\u001b[0m\u001b[0mnp\u001b[0m\u001b[1;33m.\u001b[0m\u001b[0mdot\u001b[0m\u001b[1;33m(\u001b[0m\u001b[0mx\u001b[0m\u001b[1;33m,\u001b[0m \u001b[0mx\u001b[0m\u001b[1;33m)\u001b[0m \u001b[1;33m*\u001b[0m \u001b[0mnp\u001b[0m\u001b[1;33m.\u001b[0m\u001b[0mdot\u001b[0m\u001b[1;33m(\u001b[0m\u001b[0my\u001b[0m\u001b[1;33m,\u001b[0m \u001b[0my\u001b[0m\u001b[1;33m)\u001b[0m\u001b[1;33m)\u001b[0m\u001b[1;33m\u001b[0m\u001b[1;33m\u001b[0m\u001b[0m\n\u001b[0m\u001b[0;32m   1972\u001b[0m \u001b[1;33m\u001b[0m\u001b[0m\n\u001b[0;32m   1973\u001b[0m         \u001b[1;32mif\u001b[0m \u001b[0mmaxlags\u001b[0m \u001b[1;32mis\u001b[0m \u001b[1;32mNone\u001b[0m\u001b[1;33m:\u001b[0m\u001b[1;33m\u001b[0m\u001b[1;33m\u001b[0m\u001b[0m\n",
      "\u001b[1;31mTypeError\u001b[0m: ufunc 'true_divide' output (typecode 'd') could not be coerced to provided output parameter (typecode 'l') according to the casting rule ''same_kind''"
     ]
    },
    {
     "data": {
      "image/png": "[encoded data removed]",
      "text/plain": [
       "<Figure size 432x288 with 1 Axes>"
      ]
     },
     "metadata": {
      "needs_background": "light"
     },
     "output_type": "display_data"
    }
   ],
   "source": [
    "plt.xcorr(in4, in5)"
   ]
  },
  {
   "cell_type": "code",
   "execution_count": 76,
   "metadata": {},
   "outputs": [],
   "source": [
    "def sigcompar(s1,s2,f):\n",
    "    \n",
    "    if len(s1)==len(s2):\n",
    "        \n",
    "        sig=[]\n",
    "        \n",
    "        sig[1]=s1\n",
    "        sig[2]=s2\n",
    "        \n",
    "        for i in range (1,2):\n",
    "    \n",
    "            Smax[i]=max(sig(i))\n",
    "            Sstd[i]=np.std(sig(i))\n",
    "            Smean[i]=np.mean(sig(i))\n",
    "    \n",
    "        \n",
    "        length=len(s1)\n",
    "        \n",
    "        init=[]\n",
    "        ini=[]\n",
    "        \n",
    "        for i in range(0,len(s1)):\n",
    "            init.append(abs(s2[i]-s1[i]))\n",
    "            ini.append((s1[i]-mean1)*(s2[i]-mean2)/(std1*std2)) \n",
    "            \n",
    "                       \n",
    "        r_sq=(sum(ini)/length)**2        \n",
    "        lsq=sum(init)\n",
    "        \n",
    "        \n",
    "        #polyfit\n",
    "        #lag\n",
    "        #lagtime\n",
    "\n",
    "    \n",
    "        return max1, max2, std1, std2, mean1, mean2, length, lsq, r_sq\n",
    "\n",
    "    else:\n",
    "        print('Signal Lengths are Unequal')"
   ]
  },
  {
   "cell_type": "code",
   "execution_count": 77,
   "metadata": {},
   "outputs": [
    {
     "ename": "IndexError",
     "evalue": "list assignment index out of range",
     "output_type": "error",
     "traceback": [
      "\u001b[1;31m---------------------------------------------------------------------------\u001b[0m",
      "\u001b[1;31mIndexError\u001b[0m                                Traceback (most recent call last)",
      "\u001b[1;32m<ipython-input-77-43cf0e954057>\u001b[0m in \u001b[0;36m<module>\u001b[1;34m\u001b[0m\n\u001b[1;32m----> 1\u001b[1;33m \u001b[0msigcompar\u001b[0m\u001b[1;33m(\u001b[0m\u001b[0min7\u001b[0m\u001b[1;33m,\u001b[0m\u001b[0min8\u001b[0m\u001b[1;33m,\u001b[0m\u001b[1;36m1\u001b[0m\u001b[1;33m)\u001b[0m\u001b[1;33m\u001b[0m\u001b[1;33m\u001b[0m\u001b[0m\n\u001b[0m",
      "\u001b[1;32m<ipython-input-76-e198fff015ef>\u001b[0m in \u001b[0;36msigcompar\u001b[1;34m(s1, s2, f)\u001b[0m\n\u001b[0;32m      5\u001b[0m         \u001b[0msig\u001b[0m\u001b[1;33m=\u001b[0m\u001b[1;33m[\u001b[0m\u001b[1;33m]\u001b[0m\u001b[1;33m\u001b[0m\u001b[1;33m\u001b[0m\u001b[0m\n\u001b[0;32m      6\u001b[0m \u001b[1;33m\u001b[0m\u001b[0m\n\u001b[1;32m----> 7\u001b[1;33m         \u001b[0msig\u001b[0m\u001b[1;33m[\u001b[0m\u001b[1;36m1\u001b[0m\u001b[1;33m]\u001b[0m\u001b[1;33m=\u001b[0m\u001b[0ms1\u001b[0m\u001b[1;33m\u001b[0m\u001b[1;33m\u001b[0m\u001b[0m\n\u001b[0m\u001b[0;32m      8\u001b[0m         \u001b[0msig\u001b[0m\u001b[1;33m[\u001b[0m\u001b[1;36m2\u001b[0m\u001b[1;33m]\u001b[0m\u001b[1;33m=\u001b[0m\u001b[0ms2\u001b[0m\u001b[1;33m\u001b[0m\u001b[1;33m\u001b[0m\u001b[0m\n\u001b[0;32m      9\u001b[0m \u001b[1;33m\u001b[0m\u001b[0m\n",
      "\u001b[1;31mIndexError\u001b[0m: list assignment index out of range"
     ]
    }
   ],
   "source": [
    "sigcompar(in7,in8,1)"
   ]
  },
  {
   "cell_type": "code",
   "execution_count": 5,
   "metadata": {},
   "outputs": [
    {
     "name": "stdout",
     "output_type": "stream",
     "text": [
      "C:\\Users\\Peter's 2nd Laptop\n"
     ]
    }
   ],
   "source": [
    "cd"
   ]
  },
  {
   "cell_type": "code",
   "execution_count": null,
   "metadata": {},
   "outputs": [],
   "source": []
  }
 ],
 "metadata": {
  "kernelspec": {
   "display_name": "Python 3",
   "language": "python",
   "name": "python3"
  },
  "language_info": {
   "codemirror_mode": {
    "name": "ipython",
    "version": 3
   },
   "file_extension": ".py",
   "mimetype": "text/x-python",
   "name": "python",
   "nbconvert_exporter": "python",
   "pygments_lexer": "ipython3",
   "version": "3.7.3"
  }
 },
 "nbformat": 4,
 "nbformat_minor": 2
}
