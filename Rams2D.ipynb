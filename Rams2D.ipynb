{
 "cells": [
  {
   "cell_type": "code",
   "execution_count": 1,
   "metadata": {},
   "outputs": [],
   "source": [
    "# Peter Nelson 30/9/19\n",
    "# Code for use at the FASTBLADE facility, determining where to place hydraulic rams to best simulate desired loading on \n",
    "# testing specimen. This code has different modes for different inputs. One mode uses target shear & bending data and the\n",
    "# other modes use only either target load, shear or bending data. The code uses a genetic algorithm to solve an objective\n",
    "# function that is minimised when the difference between the desired and actual shear force distributions is at a global \n",
    "# minimum. The code implicitly ensures that the desired bending moment distribution is simulated by ensuring that the sum \n",
    "# of ratios required is achieved. The code also accepts inputs for how many rams are present in the sytem and upper and \n",
    "# lower bounds for ram positions.\n",
    "\n",
    "# modularisable and adaptable elsewhere more than Jupyter"
   ]
  },
  {
   "cell_type": "markdown",
   "metadata": {},
   "source": [
    "# Start"
   ]
  },
  {
   "cell_type": "code",
   "execution_count": 12,
   "metadata": {},
   "outputs": [],
   "source": [
    "import pandas as pd\n",
    "import numpy as np\n",
    "import scipy, datetime, math\n",
    "from scipy import integrate\n",
    "import matplotlib.pyplot as plt\n",
    "%matplotlib inline  \n",
    "\n",
    "data = pd.read_excel(r\"C:\\Users\\Peter's 2nd Laptop\\Documents\\MATLAB\\FB again\\Matlab Code No Contraints\\testdata.xlsx\")\n",
    "\n",
    "number_rams = 3\n",
    "nodes = 1000\n",
    "lower_b = 0.15\n",
    "upper_b = 0.95"
   ]
  },
  {
   "cell_type": "markdown",
   "metadata": {},
   "source": [
    "# Interpolation"
   ]
  },
  {
   "cell_type": "code",
   "execution_count": 13,
   "metadata": {},
   "outputs": [],
   "source": [
    "L = data['radial position'][len(data)-1]\n",
    "\n",
    "x = list(range(0,nodes))\n",
    "b = L/(nodes-1)\n",
    "x[:] = [ __ * b for __ in x]\n",
    "\n",
    "Fx = np.interp(x,data['radial position'],data['Fx'])              #assume both inputs are positive\n",
    "Fy = np.interp(x,data['radial position'],data['Fy'])              #read about interpolation method"
   ]
  },
  {
   "cell_type": "markdown",
   "metadata": {},
   "source": [
    "# Defining Targets"
   ]
  },
  {
   "cell_type": "code",
   "execution_count": 14,
   "metadata": {},
   "outputs": [],
   "source": [
    "def targets(load):\n",
    "\n",
    "    integralpart = scipy.integrate.cumtrapz(load, x)\n",
    "    integralpart = np.insert(integralpart,0,0)\n",
    "    TF = integralpart[-1]\n",
    "\n",
    "    TargetShear = [None]*len(load)\n",
    "    TargetShear[0] = TF\n",
    "\n",
    "    for k in range(1,len(integralpart)):\n",
    "        TargetShear[k] = TF-integralpart[k]\n",
    "\n",
    "    integralPart = scipy.integrate.cumtrapz(TargetShear,x)\n",
    "    integralPart = np.insert(integralPart,0,0)\n",
    "    bmax = integralPart[-1]\n",
    "\n",
    "    TargetBending = [None]*len(load)\n",
    "    TargetBending[0] = -bmax\n",
    "\n",
    "    for k in range(1,len(integralPart)):\n",
    "        TargetBending[k] = integralPart[k]-bmax\n",
    "        \n",
    "    return TargetShear,TargetBending, TF, bmax"
   ]
  },
  {
   "cell_type": "code",
   "execution_count": 15,
   "metadata": {},
   "outputs": [],
   "source": [
    "TargetShearx,TargetBendingx, TFx, bmaxx = targets(Fx)\n",
    "TargetSheary,TargetBendingy, TFy, bmaxy = targets(Fy)"
   ]
  },
  {
   "cell_type": "code",
   "execution_count": 16,
   "metadata": {},
   "outputs": [],
   "source": [
    "F = TFy/number_rams #hmmmmmmmmmmmmmmmmmmmmmmmmmmmmmmmmmmmmmmmmmmmmmmmmmmmmmmmmmmmmmmmmmm\n",
    "Fvec = [F]*number_rams # readily editable"
   ]
  },
  {
   "cell_type": "markdown",
   "metadata": {},
   "source": [
    "# Actual Shear & Bending"
   ]
  },
  {
   "cell_type": "code",
   "execution_count": 17,
   "metadata": {},
   "outputs": [],
   "source": [
    "def angledF(avec):\n",
    "          \n",
    "    Fx = [None]*len(avec)\n",
    "    Fy = [None]*len(avec)\n",
    "    \n",
    "    for i in range(0,len(avec)):\n",
    "        Fx[i] = Fvec[i]*math.sin(math.radians(avec[i]))\n",
    "        Fy[i] = Fvec[i]*math.cos(math.radians(avec[i]))\n",
    "        \n",
    "    return Fx,Fy"
   ]
  },
  {
   "cell_type": "code",
   "execution_count": 18,
   "metadata": {},
   "outputs": [],
   "source": [
    "def AcSh2D(longsol):\n",
    "        \n",
    "    mid = int(number_rams)\n",
    "    avec = longsol[0:mid]\n",
    "    lvec = longsol[mid:mid*2]\n",
    "    \n",
    "    Fx,Fy = angledF(avec)\n",
    "    \n",
    "    ActualShearx = [TFx]*len(x)\n",
    "    ActualSheary = [TFy]*len(x)\n",
    "    \n",
    "    for i in range(0,len(x)):\n",
    "        for j in range(0,len(lvec)):\n",
    "            if x[i] > lvec[j]:\n",
    "                ActualShearx[i] = ActualShearx[i]-Fx[j]\n",
    "                ActualSheary[i] = ActualSheary[i]-Fy[j]    \n",
    "    \n",
    "    return ActualSheary, ActualShearx"
   ]
  },
  {
   "cell_type": "code",
   "execution_count": 19,
   "metadata": {},
   "outputs": [],
   "source": [
    "def AcBe(AcShy, AcShx):\n",
    "    \n",
    "    integralParty = scipy.integrate.cumtrapz(AcShy,x)\n",
    "    integralParty = np.insert(integralParty,0,0)\n",
    "    bmaxy = integralParty[-1]\n",
    "    \n",
    "    ActualBendingy = [None]*len(Fx)\n",
    "    ActualBendingy[0] = -bmaxy\n",
    "\n",
    "    for k in range(1,len(integralParty)):\n",
    "        ActualBendingy[k] = integralParty[k]-bmaxy\n",
    "        \n",
    "    integralPartx = scipy.integrate.cumtrapz(AcShx,x)\n",
    "    integralPartx = np.insert(integralPartx,0,0)\n",
    "    bmaxy = integralPartx[-1]\n",
    "    \n",
    "    ActualBendingx = [None]*len(Fx)\n",
    "    ActualBendingx[0] = -bmaxx\n",
    "\n",
    "    for k in range(1,len(integralPartx)):\n",
    "        ActualBendingx[k] = integralPartx[k]-bmaxx\n",
    "        \n",
    "    \n",
    "    return(ActualBendingy,ActualBendingx)"
   ]
  },
  {
   "cell_type": "markdown",
   "metadata": {},
   "source": [
    "# Objective"
   ]
  },
  {
   "cell_type": "code",
   "execution_count": 20,
   "metadata": {},
   "outputs": [],
   "source": [
    "def obj(longsol):\n",
    "    \n",
    "    if len(longsol) != number_rams*2:\n",
    "        print('wrong number of rams')\n",
    "        # could add a condition where sol is ran with filled in 0s\n",
    "        \n",
    "    else:      \n",
    "        lsq_l = [None]*(len(x))\n",
    "        ActualSheary, ActualShearx  = AcSh2D(longsol)\n",
    "        for i in range(0,len(x)):\n",
    "            lsq_l[i] = abs(ActualSheary[i]-TargetSheary[i]) + abs(ActualShearx[i]-TargetShearx[i])\n",
    "        \n",
    "        return sum(lsq_l)"
   ]
  },
  {
   "cell_type": "markdown",
   "metadata": {},
   "source": [
    "# Solver"
   ]
  },
  {
   "cell_type": "code",
   "execution_count": 21,
   "metadata": {
    "scrolled": true
   },
   "outputs": [
    {
     "name": "stdout",
     "output_type": "stream",
     "text": [
      "0:00:56.313467\n",
      "[ 6.3456449   8.43989762 11.2137465 ]\n",
      "[1200.95596456 2713.77434719 5034.18511368]\n"
     ]
    }
   ],
   "source": [
    "bounds = [(0,90)]*number_rams + [(lower_b*L, upper_b*L)]*number_rams\n",
    "before = datetime.datetime.now()  \n",
    "solfinal = scipy.optimize.dual_annealing(obj,bounds)  # consider random state since same obj func found\n",
    "after = datetime.datetime.now()\n",
    "print(after-before)\n",
    "\n",
    "n = np.sort(solfinal.x)\n",
    "angles = n[0:int(number_rams)]\n",
    "positions = n[int(number_rams):int(number_rams*2)]\n",
    "print(angles)\n",
    "print(positions)"
   ]
  },
  {
   "cell_type": "markdown",
   "metadata": {},
   "source": [
    "# Results"
   ]
  },
  {
   "cell_type": "code",
   "execution_count": 22,
   "metadata": {},
   "outputs": [
    {
     "data": {
      "image/png": "[encoded data removed]",
      "text/plain": [
       "<Figure size 432x288 with 1 Axes>"
      ]
     },
     "metadata": {
      "needs_background": "light"
     },
     "output_type": "display_data"
    },
    {
     "data": {
      "image/png": "[encoded data removed]",
      "text/plain": [
       "<Figure size 432x288 with 1 Axes>"
      ]
     },
     "metadata": {
      "needs_background": "light"
     },
     "output_type": "display_data"
    }
   ],
   "source": [
    "ActualSheary, ActualShearx = AcSh2D(n)\n",
    "ActualBendingy, ActualBendingx = AcBe(ActualSheary, ActualShearx)\n",
    "\n",
    "plt.plot(x, TargetSheary,'r', label = 'Target-y',ls='--')\n",
    "plt.plot(x, TargetShearx,'r', label = 'Target-x',ls='--')\n",
    "plt.step(x, ActualSheary,'b', label = 'Actual-y', where='post',lw=0.9)\n",
    "plt.step(x, ActualShearx,'g', label = 'Actual-x', where='post',lw=0.9)\n",
    "plt.ticklabel_format(style='sci', axis='y', scilimits=(0,0))\n",
    "plt.xlabel('Blade Specimen (m)')\n",
    "plt.ylabel('Shear(N)')\n",
    "plt.title('Shear Force Diagram')\n",
    "plt.legend(loc='best')\n",
    "plt.savefig('ShearForceDiagram.png')\n",
    "plt.show()\n",
    "\n",
    "\n",
    "plt.plot(x,TargetBendingy, 'r', label = 'Target-y',ls='--')\n",
    "plt.plot(x,TargetBendingx, 'r', label = 'Target-x',ls='--')\n",
    "plt.plot(x, ActualBendingy, 'b', label = 'Actual-y',lw=0.9)\n",
    "plt.plot(x, ActualBendingx, 'g', label = 'Actual-x',lw=0.9)\n",
    "plt.ticklabel_format(style='sci', axis='y', scilimits=(0,0))\n",
    "plt.xlabel('Blade Specimen (m)')\n",
    "plt.ylabel('Bending (Nm)')\n",
    "plt.title('Bending Moment Diagram')\n",
    "plt.legend(loc='best')\n",
    "plt.savefig('BendingMomentDiagram.png')\n",
    "plt.show()"
   ]
  },
  {
   "cell_type": "markdown",
   "metadata": {},
   "source": [
    "# Exporting to Excel"
   ]
  },
  {
   "cell_type": "code",
   "execution_count": null,
   "metadata": {},
   "outputs": [],
   "source": [
    "#how to export solution of where rams are acting??? also need to change outputs for 2D"
   ]
  },
  {
   "cell_type": "code",
   "execution_count": 36,
   "metadata": {},
   "outputs": [],
   "source": [
    "d = {'Nodes':x,'TargetShear':TargetShear,'ActualShear':ActualShear,'TargetBending':TargetBending,'ActualBending':ActualBending}\n",
    "df = pd.DataFrame(data=d)\n",
    "df.to_csv('newcsv.csv', index= False)"
   ]
  },
  {
   "cell_type": "code",
   "execution_count": 23,
   "metadata": {},
   "outputs": [
    {
     "data": {
      "text/plain": [
       "[<matplotlib.lines.Line2D at 0x1c97231bc18>]"
      ]
     },
     "execution_count": 23,
     "metadata": {},
     "output_type": "execute_result"
    },
    {
     "data": {
      "image/png": "[encoded data removed]",
      "text/plain": [
       "<Figure size 432x288 with 1 Axes>"
      ]
     },
     "metadata": {
      "needs_background": "light"
     },
     "output_type": "display_data"
    }
   ],
   "source": [
    "ramcount=[3, 4, 5, 6, 7, 8, 9, 10 ]\n",
    "seconds=[56, 96, 162, 215, 347, 467, 591, 870 ]\n",
    "\n",
    "\n",
    "fig, ax = plt.subplots()\n",
    "ax.plot(ramcount, seconds)"
   ]
  },
  {
   "cell_type": "code",
   "execution_count": 189,
   "metadata": {},
   "outputs": [
    {
     "data": {
      "text/plain": [
       "[<matplotlib.lines.Line2D at 0x1e24fb4b6d8>]"
      ]
     },
     "execution_count": 189,
     "metadata": {},
     "output_type": "execute_result"
    },
    {
     "data": {
      "image/png": "[encoded data removed]",
      "text/plain": [
       "<Figure size 432x288 with 1 Axes>"
      ]
     },
     "metadata": {
      "needs_background": "light"
     },
     "output_type": "display_data"
    }
   ],
   "source": [
    "#when 1000 nodes are used (for 1 DDDDDDDDDDDDDD)\n",
    "ramcount=[1,   2,   3,  4,  5,  6,   7,  8,  9,  10,  11, 12,  13,  14,   15 ]\n",
    "seconds=[2.5, 7.25, 13, 23, 30, 43, 58, 65, 82, 108, 136, 157, 201, 217, 227]\n",
    "\n",
    "fig, ax = plt.subplots()\n",
    "ax.plot(ramcount, seconds)"
   ]
  },
  {
   "cell_type": "code",
   "execution_count": 129,
   "metadata": {},
   "outputs": [],
   "source": [
    "#https://docs.scipy.org/doc/scipy/reference/generated/scipy.optimize.differential_evolution.html"
   ]
  }
 ],
 "metadata": {
  "kernelspec": {
   "display_name": "Python 3",
   "language": "python",
   "name": "python3"
  },
  "language_info": {
   "codemirror_mode": {
    "name": "ipython",
    "version": 3
   },
   "file_extension": ".py",
   "mimetype": "text/x-python",
   "name": "python",
   "nbconvert_exporter": "python",
   "pygments_lexer": "ipython3",
   "version": "3.7.3"
  }
 },
 "nbformat": 4,
 "nbformat_minor": 2
}
